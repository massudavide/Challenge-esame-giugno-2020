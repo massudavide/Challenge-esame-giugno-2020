{
 "cells": [
  {
   "cell_type": "code",
   "execution_count": 2,
   "metadata": {},
   "outputs": [],
   "source": [
    "import numpy as np\n",
    "import pandas as pd"
   ]
  },
  {
   "cell_type": "code",
   "execution_count": 3,
   "metadata": {},
   "outputs": [
    {
     "data": {
      "text/plain": [
       "(88421, 14)"
      ]
     },
     "execution_count": 3,
     "metadata": {},
     "output_type": "execute_result"
    }
   ],
   "source": [
    "path = \"appointment_data.csv\"\n",
    "data = pd.read_csv(path)\n",
    "data.shape"
   ]
  },
  {
   "cell_type": "code",
   "execution_count": 3,
   "metadata": {},
   "outputs": [],
   "source": [
    "col = ['No-show', 'PatientId', 'AppointmentID', 'Gender', 'ScheduledDay',\n",
    "       'AppointmentDay', 'Age', 'Neighbourhood', 'Scholarship', 'Hipertension',\n",
    "       'Diabetes', 'Alcoholism', 'Handcap', 'SMS_received']"
   ]
  },
  {
   "cell_type": "code",
   "execution_count": 4,
   "metadata": {},
   "outputs": [],
   "source": [
    "from sklearn.model_selection import train_test_split\n",
    "\n",
    "# seleziono la feature di output... si molto inutile\n",
    "y = data[\"No-show\"]\n",
    "# seleziono le features che compariranno nel DataSet\n",
    "X = data[col]\n",
    "\n",
    "# divido i dati in train (80%) e test (20%) e li mischio in modo da averli non ordinati,\n",
    "# ma in modo deterministico (random_State = 42)  \n",
    "train_X, test_X, train_y, test_y = train_test_split(X, y, test_size = 0.2, random_state=42)"
   ]
  },
  {
   "cell_type": "code",
   "execution_count": 5,
   "metadata": {},
   "outputs": [
    {
     "data": {
      "text/html": [
       "<div>\n",
       "<style scoped>\n",
       "    .dataframe tbody tr th:only-of-type {\n",
       "        vertical-align: middle;\n",
       "    }\n",
       "\n",
       "    .dataframe tbody tr th {\n",
       "        vertical-align: top;\n",
       "    }\n",
       "\n",
       "    .dataframe thead th {\n",
       "        text-align: right;\n",
       "    }\n",
       "</style>\n",
       "<table border=\"1\" class=\"dataframe\">\n",
       "  <thead>\n",
       "    <tr style=\"text-align: right;\">\n",
       "      <th></th>\n",
       "      <th>No-show</th>\n",
       "      <th>PatientId</th>\n",
       "      <th>AppointmentID</th>\n",
       "      <th>Gender</th>\n",
       "      <th>ScheduledDay</th>\n",
       "      <th>AppointmentDay</th>\n",
       "      <th>Age</th>\n",
       "      <th>Neighbourhood</th>\n",
       "      <th>Scholarship</th>\n",
       "      <th>Hipertension</th>\n",
       "      <th>Diabetes</th>\n",
       "      <th>Alcoholism</th>\n",
       "      <th>Handcap</th>\n",
       "      <th>SMS_received</th>\n",
       "    </tr>\n",
       "  </thead>\n",
       "  <tbody>\n",
       "    <tr>\n",
       "      <td>5821</td>\n",
       "      <td>No</td>\n",
       "      <td>5.554332e+13</td>\n",
       "      <td>5686868</td>\n",
       "      <td>F</td>\n",
       "      <td>2016-05-11T14:12:13Z</td>\n",
       "      <td>2016-05-13T00:00:00Z</td>\n",
       "      <td>55</td>\n",
       "      <td>JARDIM CAMBURI</td>\n",
       "      <td>0</td>\n",
       "      <td>0</td>\n",
       "      <td>0</td>\n",
       "      <td>0</td>\n",
       "      <td>0</td>\n",
       "      <td>0</td>\n",
       "    </tr>\n",
       "    <tr>\n",
       "      <td>30770</td>\n",
       "      <td>No</td>\n",
       "      <td>4.955162e+14</td>\n",
       "      <td>5668152</td>\n",
       "      <td>F</td>\n",
       "      <td>2016-05-06T08:34:32Z</td>\n",
       "      <td>2016-05-06T00:00:00Z</td>\n",
       "      <td>47</td>\n",
       "      <td>RESISTÊNCIA</td>\n",
       "      <td>0</td>\n",
       "      <td>0</td>\n",
       "      <td>0</td>\n",
       "      <td>0</td>\n",
       "      <td>0</td>\n",
       "      <td>0</td>\n",
       "    </tr>\n",
       "    <tr>\n",
       "      <td>51346</td>\n",
       "      <td>No</td>\n",
       "      <td>5.541574e+13</td>\n",
       "      <td>5751493</td>\n",
       "      <td>F</td>\n",
       "      <td>2016-05-31T10:13:24Z</td>\n",
       "      <td>2016-05-31T00:00:00Z</td>\n",
       "      <td>56</td>\n",
       "      <td>JESUS DE NAZARETH</td>\n",
       "      <td>1</td>\n",
       "      <td>1</td>\n",
       "      <td>1</td>\n",
       "      <td>0</td>\n",
       "      <td>0</td>\n",
       "      <td>0</td>\n",
       "    </tr>\n",
       "    <tr>\n",
       "      <td>3906</td>\n",
       "      <td>No</td>\n",
       "      <td>7.445846e+11</td>\n",
       "      <td>5732987</td>\n",
       "      <td>F</td>\n",
       "      <td>2016-05-24T13:07:59Z</td>\n",
       "      <td>2016-06-01T00:00:00Z</td>\n",
       "      <td>66</td>\n",
       "      <td>SÃO PEDRO</td>\n",
       "      <td>0</td>\n",
       "      <td>0</td>\n",
       "      <td>0</td>\n",
       "      <td>0</td>\n",
       "      <td>1</td>\n",
       "      <td>1</td>\n",
       "    </tr>\n",
       "    <tr>\n",
       "      <td>38879</td>\n",
       "      <td>No</td>\n",
       "      <td>5.395177e+13</td>\n",
       "      <td>5575893</td>\n",
       "      <td>F</td>\n",
       "      <td>2016-04-13T07:42:07Z</td>\n",
       "      <td>2016-05-13T00:00:00Z</td>\n",
       "      <td>0</td>\n",
       "      <td>JABOUR</td>\n",
       "      <td>0</td>\n",
       "      <td>0</td>\n",
       "      <td>0</td>\n",
       "      <td>0</td>\n",
       "      <td>0</td>\n",
       "      <td>0</td>\n",
       "    </tr>\n",
       "  </tbody>\n",
       "</table>\n",
       "</div>"
      ],
      "text/plain": [
       "      No-show     PatientId  AppointmentID Gender          ScheduledDay  \\\n",
       "5821       No  5.554332e+13        5686868      F  2016-05-11T14:12:13Z   \n",
       "30770      No  4.955162e+14        5668152      F  2016-05-06T08:34:32Z   \n",
       "51346      No  5.541574e+13        5751493      F  2016-05-31T10:13:24Z   \n",
       "3906       No  7.445846e+11        5732987      F  2016-05-24T13:07:59Z   \n",
       "38879      No  5.395177e+13        5575893      F  2016-04-13T07:42:07Z   \n",
       "\n",
       "             AppointmentDay  Age      Neighbourhood  Scholarship  \\\n",
       "5821   2016-05-13T00:00:00Z   55     JARDIM CAMBURI            0   \n",
       "30770  2016-05-06T00:00:00Z   47        RESISTÊNCIA            0   \n",
       "51346  2016-05-31T00:00:00Z   56  JESUS DE NAZARETH            1   \n",
       "3906   2016-06-01T00:00:00Z   66          SÃO PEDRO            0   \n",
       "38879  2016-05-13T00:00:00Z    0             JABOUR            0   \n",
       "\n",
       "       Hipertension  Diabetes  Alcoholism  Handcap  SMS_received  \n",
       "5821              0         0           0        0             0  \n",
       "30770             0         0           0        0             0  \n",
       "51346             1         1           0        0             0  \n",
       "3906              0         0           0        1             1  \n",
       "38879             0         0           0        0             0  "
      ]
     },
     "execution_count": 5,
     "metadata": {},
     "output_type": "execute_result"
    }
   ],
   "source": [
    "train_X.head()"
   ]
  },
  {
   "cell_type": "code",
   "execution_count": 6,
   "metadata": {},
   "outputs": [],
   "source": [
    "# salvo i file in csv per utilizzarli nell'altro notebook\n",
    "train_X.to_csv('train.csv', index=True)\n",
    "test_X.to_csv('test.csv', index=True)"
   ]
  }
 ],
 "metadata": {
  "@webio": {
   "lastCommId": null,
   "lastKernelId": null
  },
  "kernelspec": {
   "display_name": "Python 3.7.4 64-bit ('base': conda)",
   "language": "python",
   "name": "python37464bitbaseconda99500029fe664716a7581654489d902c"
  },
  "language_info": {
   "codemirror_mode": {
    "name": "ipython",
    "version": 3
   },
   "file_extension": ".py",
   "mimetype": "text/x-python",
   "name": "python",
   "nbconvert_exporter": "python",
   "pygments_lexer": "ipython3",
   "version": "3.7.4"
  }
 },
 "nbformat": 4,
 "nbformat_minor": 2
}
