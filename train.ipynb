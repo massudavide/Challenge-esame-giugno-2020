{
 "cells": [
  {
   "cell_type": "code",
   "execution_count": 1,
   "metadata": {},
   "outputs": [],
   "source": [
    "import numpy as np\n",
    "import pandas as pd\n",
    "import seaborn as sns\n",
    "import matplotlib.pyplot as plt\n",
    "from sklearn.preprocessing import LabelEncoder\n",
    "from sklearn.model_selection import cross_val_score\n",
    "from sklearn.tree import DecisionTreeClassifier\n",
    "import matplotlib.pyplot as plt  # doctest: +SKIP\n",
    "from sklearn.metrics import plot_confusion_matrix\n",
    "from sklearn.svm import SVC"
   ]
  },
  {
   "cell_type": "code",
   "execution_count": 2,
   "metadata": {},
   "outputs": [],
   "source": [
    "features = ['PatientId', 'AppointmentID', 'Gender', 'ScheduledDay',\n",
    "       'AppointmentDay', 'Age', 'Neighbourhood', 'Scholarship', 'Hipertension',\n",
    "       'Diabetes', 'Alcoholism', 'Handcap', 'SMS_received']\n",
    "\n",
    "def data_split(dataSet) :\n",
    "    dataSet_X = dataSet.drop('No-show', axis = 1)\n",
    "    dataSet_y = dataSet.drop(features, axis = 1)\n",
    "    return dataSet_X, dataSet_y"
   ]
  },
  {
   "cell_type": "code",
   "execution_count": 3,
   "metadata": {},
   "outputs": [],
   "source": [
    "# funzione che permette di dividere l'età in gruppi\n",
    "def fascia_eta(dataSet):\n",
    "    bins= [0,31,56,80,200]\n",
    "    labels = [0, 1, 2, 3]\n",
    "    \n",
    "    dataSet['AgeGroup'] = pd.cut(dataSet['Age'], bins=bins, labels=labels, right=False)"
   ]
  },
  {
   "cell_type": "code",
   "execution_count": 4,
   "metadata": {},
   "outputs": [],
   "source": [
    "# funzione che effettua la differenza tra le due date e riporta il risultato in millisecondi\n",
    "def sottrai_data (row) :\n",
    "    row['diffData'] = ((row.AppointmentDay - row.ScheduledDay).total_seconds() * 1000)\n",
    "    return row"
   ]
  },
  {
   "cell_type": "code",
   "execution_count": 5,
   "metadata": {},
   "outputs": [],
   "source": [
    "# funzione che permette di dividere la diff tra le due date in gruppi\n",
    "def fascia_diffData(dataSet):\n",
    "    bins= [-5.681600e+09, -2.987600e+07, 2.995910e+08, 1.238590e+09, 1.542714e+11]\n",
    "    labels = [0, 1, 2, 3]\n",
    "    \n",
    "    dataSet['FasciadiffData'] = pd.cut(dataSet['diffData'], bins=bins, labels=labels, right=False)"
   ]
  },
  {
   "cell_type": "code",
   "execution_count": 6,
   "metadata": {},
   "outputs": [],
   "source": [
    "# encoder che permette di mappare i valori in numeri così che sia più facile lavorarci\n",
    "def enc_features(dataSet) :\n",
    "    encoder = LabelEncoder()\n",
    "    encoderColumns = ['PatientId', 'Gender', 'Neighbourhood', 'AppointmentDay']\n",
    "\n",
    "    encoded = dataSet[encoderColumns].apply(encoder.fit_transform)\n",
    "    \n",
    "    dataSet = dataSet.drop('PatientId', axis = 1).drop('Gender', axis = 1).drop('Neighbourhood', axis = 1)\n",
    "    dataSet = dataSet.drop('AppointmentDay', axis = 1)\n",
    "    \n",
    "    dataSet = dataSet.join(encoded)\n",
    "    \n",
    "    return dataSet\n"
   ]
  },
  {
   "cell_type": "code",
   "execution_count": 7,
   "metadata": {},
   "outputs": [],
   "source": [
    "# path dei due file csv anche se inutile...zucchero sintattico\n",
    "train_path = \"train.csv\"\n",
    "test_path = \"test.csv\""
   ]
  },
  {
   "cell_type": "code",
   "execution_count": 8,
   "metadata": {},
   "outputs": [],
   "source": [
    "# carico i dati parsando le date\n",
    "train = pd.read_csv(train_path, parse_dates=['ScheduledDay','AppointmentDay'], index_col=0)\n",
    "test = pd.read_csv(test_path, parse_dates=['ScheduledDay','AppointmentDay'], index_col=0)"
   ]
  },
  {
   "cell_type": "code",
   "execution_count": 9,
   "metadata": {},
   "outputs": [],
   "source": [
    "# divido le features dalla variabile obiettivo ('No-show')\n",
    "train_X, train_y = data_split(train)\n",
    "test_X, test_y = data_split(test)"
   ]
  },
  {
   "cell_type": "code",
   "execution_count": 10,
   "metadata": {},
   "outputs": [
    {
     "name": "stdout",
     "output_type": "stream",
     "text": [
      "Series([], dtype: int64)\n"
     ]
    }
   ],
   "source": [
    "# controllo che non esistano valori esplicitamente null nel trainSet\n",
    "missing_val_count_by_column = (train.isnull().sum())\n",
    "print(missing_val_count_by_column[missing_val_count_by_column > 0])"
   ]
  },
  {
   "cell_type": "code",
   "execution_count": 11,
   "metadata": {},
   "outputs": [],
   "source": [
    "# divido le età in 4 fasce\n",
    "fascia_eta(train_X)\n",
    "fascia_eta(test_X)"
   ]
  },
  {
   "cell_type": "code",
   "execution_count": null,
   "metadata": {},
   "outputs": [],
   "source": [
    "# effettuo la differenza tra la data della visita e quella del giorno di prenotazione\n",
    "# magari qualcuno non si è presentato perchè ha prenotato troppo tempo prima e si è dimenticato...boh\n",
    "train_X = train_X.apply(sottrai_data, axis = 'columns')\n",
    "test_X = test_X.apply(sottrai_data, axis = 'columns')"
   ]
  },
  {
   "cell_type": "code",
   "execution_count": null,
   "metadata": {},
   "outputs": [],
   "source": [
    "train_X.head()"
   ]
  },
  {
   "cell_type": "code",
   "execution_count": null,
   "metadata": {},
   "outputs": [],
   "source": [
    "# features encoder per le seguenti colonne: ['PatientId', 'Gender', 'Neighbourhood', 'AppointmentDay']\n",
    "\n",
    "train_X = enc_features(train_X)\n",
    "test_X = enc_features(test_X)"
   ]
  },
  {
   "cell_type": "code",
   "execution_count": null,
   "metadata": {},
   "outputs": [],
   "source": [
    "train_X.head()"
   ]
  },
  {
   "cell_type": "code",
   "execution_count": null,
   "metadata": {},
   "outputs": [],
   "source": [
    "# divido in gruppi la diff di data così che il gruppo con numero più alto abbia anche prenotazione più lontana\n",
    "fascia_diffData(train_X)\n",
    "fascia_diffData(test_X)"
   ]
  },
  {
   "cell_type": "code",
   "execution_count": null,
   "metadata": {},
   "outputs": [],
   "source": [
    "train_X.head()"
   ]
  },
  {
   "cell_type": "code",
   "execution_count": null,
   "metadata": {
    "scrolled": true
   },
   "outputs": [],
   "source": [
    "# per ogni colonna stampo i valori univoci in modo da assicurarmi che non ci siano valori strani\n",
    "for col in train_X.columns :\n",
    "    print(\"---\", col, \"---\")\n",
    "    print(train_X[col].unique())\n",
    "    print(\"\\n\")"
   ]
  },
  {
   "cell_type": "code",
   "execution_count": null,
   "metadata": {},
   "outputs": [],
   "source": [
    "train_X.columns"
   ]
  },
  {
   "cell_type": "code",
   "execution_count": null,
   "metadata": {},
   "outputs": [],
   "source": [
    "# sono molto indeciso tra quali features usare, ma scarterò: \n",
    "# 'AppointmentID' perchè univoco;\n",
    "# 'Age' perchè ormai ho 'AgeGroup'; \n",
    "# 'PatientId' perchè anche se magari non si è presentato una volta, non credo ci sia una correlazione così forte con 'No-show'; \n",
    "# 'ScheduledDay' perchè tutti valori univoci avendo anche i millisecondi nel timestamp (avevo anche provato a dividerli in mese e giorno, ma il modello si overfitta); 'AppointmentDay'  \n",
    "# 'AppointmentDay' perchè ho usato la diff tra visita e prenotazione\n",
    "# 'Neighbourhood' non credo ci sia una correlazione tra quartiere e persone che non si fanno visitare\n",
    "\n",
    "cols = ['Scholarship', 'Hipertension', 'AgeGroup',\n",
    "       'Diabetes', 'Alcoholism', 'Handcap', 'SMS_received',\n",
    "       'Gender', 'FasciadiffData']"
   ]
  },
  {
   "cell_type": "code",
   "execution_count": null,
   "metadata": {},
   "outputs": [],
   "source": [
    "# 42 because that is the meaning of life\n",
    "clf = DecisionTreeClassifier(random_state=42)\n",
    "# Train Decision Tree Classifer\n",
    "clf = clf.fit(train_X[cols] , train_y)\n",
    "\n",
    "print(\"Accuracy on training set: {:.3f}\".format(clf.score(train_X[cols], train_y)))\n",
    "print(\"Accuracy on test set: {:.3f}\".format(clf.score(test_X[cols], test_y)))"
   ]
  },
  {
   "cell_type": "code",
   "execution_count": null,
   "metadata": {},
   "outputs": [],
   "source": [
    "# plot che mi dice quanti valori sono stati classificati correttamente e non\n",
    "\n",
    "plot_confusion_matrix(clf, test_X[cols], test_y)  # doctest: +SKIP\n",
    "plt.show()"
   ]
  }
 ],
 "metadata": {
  "@webio": {
   "lastCommId": null,
   "lastKernelId": null
  },
  "kernelspec": {
   "display_name": "Python 3.7.4 64-bit ('base': conda)",
   "language": "python",
   "name": "python37464bitbaseconda99500029fe664716a7581654489d902c"
  },
  "language_info": {
   "codemirror_mode": {
    "name": "ipython",
    "version": 3
   },
   "file_extension": ".py",
   "mimetype": "text/x-python",
   "name": "python",
   "nbconvert_exporter": "python",
   "pygments_lexer": "ipython3",
   "version": "3.7.4"
  }
 },
 "nbformat": 4,
 "nbformat_minor": 2
}
